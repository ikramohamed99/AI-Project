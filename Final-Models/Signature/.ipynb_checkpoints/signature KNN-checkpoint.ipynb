{
 "cells": [
  {
   "cell_type": "code",
   "execution_count": 1,
   "metadata": {},
   "outputs": [],
   "source": [
    "import cv2\n",
    "import numpy as np\n",
    "import matplotlib.pyplot as plt\n",
    "from skimage.transform import resize\n",
    "from skimage import io\n",
    "import warnings\n",
    "warnings.filterwarnings(\"ignore\")"
   ]
  },
  {
   "cell_type": "markdown",
   "metadata": {},
   "source": [
    "# Loading training data"
   ]
  },
  {
   "cell_type": "code",
   "execution_count": 2,
   "metadata": {},
   "outputs": [
    {
     "data": {
      "text/plain": [
       "<matplotlib.image.AxesImage at 0x2ae7f3b6748>"
      ]
     },
     "execution_count": 2,
     "metadata": {},
     "output_type": "execute_result"
    },
    {
     "data": {
      "image/png": "[encoded data removed]",
      "text/plain": [
       "<Figure size 960x288 with 1 Axes>"
      ]
     },
     "metadata": {
      "needs_background": "light"
     },
     "output_type": "display_data"
    }
   ],
   "source": [
    "james1 = io.imread('.\\JamesMaySignatures\\JamesMay1.png')\n",
    "james2 = io.imread('.\\JamesMaySignatures\\JamesMay2.png')\n",
    "james3 = io.imread('.\\JamesMaySignatures\\JamesMay3.png')\n",
    "james4 = io.imread('.\\JamesMaySignatures\\JamesMay4.png')\n",
    "james5 = io.imread('.\\JamesMaySignatures\\JamesMay5.png')\n",
    "james6 = io.imread('.\\JamesMaySignatures\\JamesMay6.png')\n",
    "james7 = io.imread('.\\JamesMaySignatures\\JamesMay7.png')\n",
    "james8 = io.imread('.\\JamesMaySignatures\\JamesMay8.png')\n",
    "james9 = io.imread('.\\JamesMaySignatures\\JamesMay9.png')\n",
    "james10 = io.imread('.\\JamesMaySignatures\\JamesMay10.png')\n",
    "james11= io.imread('.\\JamesMaySignatures\\JamesMay11.png')\n",
    "james12 = io.imread('.\\JamesMaySignatures\\JamesMay12.png')\n",
    "james13 = io.imread('.\\JamesMaySignatures\\JamesMay13.png')\n",
    "james14 = io.imread('.\\JamesMaySignatures\\JamesMay14.png')\n",
    "james15 = io.imread('.\\JamesMaySignatures\\JamesMay15.png')\n",
    "james16 = io.imread('.\\JamesMaySignatures\\JamesMay16.png')\n",
    "james17 = io.imread('.\\JamesMaySignatures\\JamesMay17.png')\n",
    "james18 = io.imread('.\\JamesMaySignatures\\JamesMay18.png')\n",
    "james19 = io.imread('.\\JamesMaySignatures\\JamesMay19.png')\n",
    "james20 = io.imread('.\\JamesMaySignatures\\JamesMay20.png')\n",
    "\n",
    "wendy1 = io.imread('.\\WendyMartinSignatures\\WendyMartin1.png')\n",
    "wendy2 = io.imread('.\\WendyMartinSignatures\\WendyMartin2.png')\n",
    "wendy3 = io.imread('.\\WendyMartinSignatures\\WendyMartin3.png')\n",
    "wendy4 = io.imread('.\\WendyMartinSignatures\\WendyMartin4.png')\n",
    "wendy5 = io.imread('.\\WendyMartinSignatures\\WendyMartin5.png')\n",
    "wendy6 = io.imread('.\\WendyMartinSignatures\\WendyMartin6.png')\n",
    "wendy7 = io.imread('.\\WendyMartinSignatures\\WendyMartin7.png')\n",
    "wendy8 = io.imread('.\\WendyMartinSignatures\\WendyMartin8.png')\n",
    "wendy9 = io.imread('.\\WendyMartinSignatures\\WendyMartin9.png')\n",
    "wendy10 = io.imread('.\\WendyMartinSignatures\\WendyMartin10.png')\n",
    "wendy11= io.imread('.\\WendyMartinSignatures\\WendyMartin11.png')\n",
    "wendy12 = io.imread('.\\WendyMartinSignatures\\WendyMartin12.png')\n",
    "wendy13 = io.imread('.\\WendyMartinSignatures\\WendyMartin13.png')\n",
    "wendy14 = io.imread('.\\WendyMartinSignatures\\WendyMartin14.png')\n",
    "wendy15 = io.imread('.\\WendyMartinSignatures\\WendyMartin15.png')\n",
    "wendy16 = io.imread('.\\WendyMartinSignatures\\WendyMartin16.png')\n",
    "wendy17 = io.imread('.\\WendyMartinSignatures\\WendyMartin17.png')\n",
    "wendy18 = io.imread('.\\WendyMartinSignatures\\WendyMartin18.png')\n",
    "wendy19 = io.imread('.\\WendyMartinSignatures\\WendyMartin19.png')\n",
    "wendy20 = io.imread('.\\WendyMartinSignatures\\WendyMartin20.png')\n",
    "\n",
    "plt.matshow(wendy6)"
   ]
  },
  {
   "cell_type": "code",
   "execution_count": 3,
   "metadata": {},
   "outputs": [],
   "source": [
    "james1 = cv2.cvtColor(james1,cv2.COLOR_BGR2GRAY)\n",
    "james1 = resize(james1, (100, 100))\n",
    "james1 = james1.flatten()\n",
    "\n",
    "james2 = cv2.cvtColor(james2,cv2.COLOR_BGR2GRAY)\n",
    "james2 = resize(james2, (100, 100))\n",
    "james2 = james2.flatten()\n",
    "\n",
    "james3 = cv2.cvtColor(james3,cv2.COLOR_BGR2GRAY)\n",
    "james3 = resize(james3, (100, 100))\n",
    "james3 = james3.flatten()\n",
    "\n",
    "james4 = cv2.cvtColor(james4,cv2.COLOR_BGR2GRAY)\n",
    "james4 = resize(james4, (100, 100))\n",
    "james4 = james4.flatten()\n",
    "\n",
    "james5 = cv2.cvtColor(james5,cv2.COLOR_BGR2GRAY)\n",
    "james5 = resize(james5, (100, 100))\n",
    "james5 = james5.flatten()\n",
    "\n",
    "james6 = cv2.cvtColor(james6,cv2.COLOR_BGR2GRAY)\n",
    "james6 = resize(james6, (100, 100))\n",
    "james6 = james6.flatten()\n",
    "\n",
    "james7 = cv2.cvtColor(james7,cv2.COLOR_BGR2GRAY)\n",
    "james7 = resize(james7, (100, 100))\n",
    "james7 = james7.flatten()\n",
    "\n",
    "james8 = cv2.cvtColor(james8,cv2.COLOR_BGR2GRAY)\n",
    "james8 = resize(james8, (100, 100))\n",
    "james8 = james8.flatten()\n",
    "\n",
    "james9 = cv2.cvtColor(james9,cv2.COLOR_BGR2GRAY)\n",
    "james9 = resize(james9, (100, 100))\n",
    "james9 = james9.flatten()\n",
    "\n",
    "james10 = cv2.cvtColor(james10,cv2.COLOR_BGR2GRAY)\n",
    "james10 = resize(james10, (100, 100))\n",
    "james10 = james10.flatten()\n",
    "\n",
    "james11 = cv2.cvtColor(james11,cv2.COLOR_BGR2GRAY)\n",
    "james11 = resize(james11, (100, 100))\n",
    "james11 = james11.flatten()\n",
    "\n",
    "james12 = cv2.cvtColor(james12,cv2.COLOR_BGR2GRAY)\n",
    "james12 = resize(james12, (100, 100))\n",
    "james12 = james12.flatten()\n",
    "\n",
    "james13 = cv2.cvtColor(james13,cv2.COLOR_BGR2GRAY)\n",
    "james13 = resize(james13, (100, 100))\n",
    "james13 = james13.flatten()\n",
    "\n",
    "james14 = cv2.cvtColor(james14,cv2.COLOR_BGR2GRAY)\n",
    "james14 = resize(james14, (100, 100))\n",
    "james14 = james14.flatten()\n",
    "\n",
    "james15 = cv2.cvtColor(james15,cv2.COLOR_BGR2GRAY)\n",
    "james15 = resize(james15, (100, 100))\n",
    "james15 = james15.flatten()\n",
    "\n",
    "james16 = cv2.cvtColor(james16,cv2.COLOR_BGR2GRAY)\n",
    "james16 = resize(james16, (100, 100))\n",
    "james16 = james16.flatten()\n",
    "\n",
    "james17 = cv2.cvtColor(james17,cv2.COLOR_BGR2GRAY)\n",
    "james17 = resize(james17, (100, 100))\n",
    "james17 = james17.flatten()\n",
    "\n",
    "james18 = cv2.cvtColor(james18,cv2.COLOR_BGR2GRAY)\n",
    "james18 = resize(james18, (100, 100))\n",
    "james18 = james18.flatten()\n",
    "\n",
    "james19 = cv2.cvtColor(james19,cv2.COLOR_BGR2GRAY)\n",
    "james19 = resize(james19, (100, 100))\n",
    "james19 = james19.flatten()\n",
    "\n",
    "james20 = cv2.cvtColor(james20,cv2.COLOR_BGR2GRAY)\n",
    "james20 = resize(james20, (100, 100))\n",
    "james20 = james20.flatten()"
   ]
  },
  {
   "cell_type": "code",
   "execution_count": 4,
   "metadata": {},
   "outputs": [],
   "source": [
    "wendy1 = cv2.cvtColor(wendy1,cv2.COLOR_BGR2GRAY)\n",
    "wendy1 = resize(wendy1, (100, 100))\n",
    "wendy1 = wendy1.flatten()\n",
    "\n",
    "wendy2 = cv2.cvtColor(wendy2,cv2.COLOR_BGR2GRAY)\n",
    "wendy2 = resize(wendy2, (100, 100))\n",
    "wendy2 = wendy2.flatten()\n",
    "\n",
    "wendy3 = cv2.cvtColor(wendy3,cv2.COLOR_BGR2GRAY)\n",
    "wendy3 = resize(wendy3, (100, 100))\n",
    "wendy3 = wendy3.flatten()\n",
    "\n",
    "wendy4 = cv2.cvtColor(wendy4,cv2.COLOR_BGR2GRAY)\n",
    "wendy4 = resize(wendy4, (100, 100))\n",
    "wendy4 = wendy4.flatten()\n",
    "\n",
    "wendy5 = cv2.cvtColor(wendy5,cv2.COLOR_BGR2GRAY)\n",
    "wendy5 = resize(wendy5, (100, 100))\n",
    "wendy5 = wendy5.flatten()\n",
    "\n",
    "wendy6 = cv2.cvtColor(wendy6,cv2.COLOR_BGR2GRAY)\n",
    "wendy6 = resize(wendy6, (100, 100))\n",
    "wendy6 = wendy6.flatten()\n",
    "\n",
    "wendy7 = cv2.cvtColor(wendy7,cv2.COLOR_BGR2GRAY)\n",
    "wendy7 = resize(wendy7, (100, 100))\n",
    "wendy7 = wendy7.flatten()\n",
    "\n",
    "wendy8 = cv2.cvtColor(wendy8,cv2.COLOR_BGR2GRAY)\n",
    "wendy8 = resize(wendy8, (100, 100))\n",
    "wendy8 = wendy8.flatten()\n",
    "\n",
    "wendy9 = cv2.cvtColor(wendy9,cv2.COLOR_BGR2GRAY)\n",
    "wendy9 = resize(wendy9, (100, 100))\n",
    "wendy9 = wendy9.flatten()\n",
    "\n",
    "wendy10 = cv2.cvtColor(wendy10,cv2.COLOR_BGR2GRAY)\n",
    "wendy10 = resize(wendy10, (100, 100))\n",
    "wendy10 = wendy10.flatten()\n",
    "\n",
    "wendy11 = cv2.cvtColor(wendy11,cv2.COLOR_BGR2GRAY)\n",
    "wendy11 = resize(wendy11, (100, 100))\n",
    "wendy11 = wendy11.flatten()\n",
    "\n",
    "wendy12 = cv2.cvtColor(wendy12,cv2.COLOR_BGR2GRAY)\n",
    "wendy12 = resize(wendy12, (100, 100))\n",
    "wendy12 = wendy12.flatten()\n",
    "\n",
    "wendy13 = cv2.cvtColor(wendy13,cv2.COLOR_BGR2GRAY)\n",
    "wendy13 = resize(wendy13, (100, 100))\n",
    "wendy13 = wendy13.flatten()\n",
    "\n",
    "wendy14 = cv2.cvtColor(wendy14,cv2.COLOR_BGR2GRAY)\n",
    "wendy14 = resize(wendy14, (100, 100))\n",
    "wendy14 = wendy14.flatten()\n",
    "\n",
    "wendy15 = cv2.cvtColor(wendy15,cv2.COLOR_BGR2GRAY)\n",
    "wendy15 = resize(wendy15, (100, 100))\n",
    "wendy15 = wendy15.flatten()\n",
    "\n",
    "wendy16 = cv2.cvtColor(wendy16,cv2.COLOR_BGR2GRAY)\n",
    "wendy16 = resize(wendy16, (100, 100))\n",
    "wendy16 = wendy16.flatten()\n",
    "\n",
    "wendy17 = cv2.cvtColor(wendy17,cv2.COLOR_BGR2GRAY)\n",
    "wendy17 = resize(wendy17, (100, 100))\n",
    "wendy17 = wendy17.flatten()\n",
    "\n",
    "wendy18 = cv2.cvtColor(wendy18,cv2.COLOR_BGR2GRAY)\n",
    "wendy18 = resize(wendy18, (100, 100))\n",
    "wendy18 = wendy18.flatten()\n",
    "\n",
    "wendy19 = cv2.cvtColor(wendy19,cv2.COLOR_BGR2GRAY)\n",
    "wendy19 = resize(wendy19, (100, 100))\n",
    "wendy19 = wendy19.flatten()\n",
    "\n",
    "wendy20 = cv2.cvtColor(wendy20,cv2.COLOR_BGR2GRAY)\n",
    "wendy20 = resize(wendy20, (100, 100))\n",
    "wendy20 = wendy20.flatten()"
   ]
  },
  {
   "cell_type": "code",
   "execution_count": 5,
   "metadata": {},
   "outputs": [],
   "source": [
    "data = []\n",
    "for i in [james1, james2, james3, james4, james5, james6, james7, james8, james9, james10, james11, james12, james13\n",
    "        , james14, james15, james16, james17, james18, james19, james20, wendy1, wendy2, wendy3, wendy4, wendy5, wendy6\n",
    "        , wendy7, wendy8, wendy9, wendy10, wendy11, wendy12, wendy13, wendy14, wendy15, wendy16, wendy17, wendy18, wendy19, wendy20]:\n",
    "    data.append(i)\n",
    "data = np.array(data)"
   ]
  },
  {
   "cell_type": "code",
   "execution_count": 6,
   "metadata": {},
   "outputs": [
    {
     "data": {
      "text/plain": [
       "(40, 10000)"
      ]
     },
     "execution_count": 6,
     "metadata": {},
     "output_type": "execute_result"
    }
   ],
   "source": [
    "data.shape"
   ]
  },
  {
   "cell_type": "code",
   "execution_count": 7,
   "metadata": {},
   "outputs": [],
   "source": [
    "plt.rcParams[\"figure.figsize\"] = (5,5)"
   ]
  },
  {
   "cell_type": "code",
   "execution_count": 8,
   "metadata": {
    "scrolled": true
   },
   "outputs": [
    {
     "name": "stdout",
     "output_type": "stream",
     "text": [
      "Target shape: (40,)\n"
     ]
    }
   ],
   "source": [
    "target = [0,0,0,0,0,0,0,0,0,0,0,0,0,0,0,0,0,0,0,0, 1,1,1,1,1,1,1,1,1,1,1,1,1,1,1,1,1,1,1,1]    \n",
    "target = np.array(target)\n",
    "\n",
    "print('Target shape:', target.shape)"
   ]
  },
  {
   "cell_type": "code",
   "execution_count": 9,
   "metadata": {},
   "outputs": [],
   "source": [
    "X = data \n",
    "y = target\n",
    "n_samples = len(X)"
   ]
  },
  {
   "cell_type": "code",
   "execution_count": 10,
   "metadata": {},
   "outputs": [
    {
     "data": {
      "text/plain": [
       "40"
      ]
     },
     "execution_count": 10,
     "metadata": {},
     "output_type": "execute_result"
    }
   ],
   "source": [
    "n_samples"
   ]
  },
  {
   "cell_type": "code",
   "execution_count": 11,
   "metadata": {},
   "outputs": [],
   "source": [
    "X_train = X[:round(.7 * n_samples)]\n",
    "y_train = y[:round(.7 * n_samples)]\n",
    "X_test = X[round(.7 * n_samples):]\n",
    "y_test = y[round(.7 * n_samples):]"
   ]
  },
  {
   "cell_type": "code",
   "execution_count": 12,
   "metadata": {},
   "outputs": [],
   "source": [
    "X_val = X_test[round(.6 * len(X_test)):]\n",
    "y_val = y_test[round(.6 * len(X_test)):]\n",
    "X_test = X_test[round(.6 * len(X_test)):]\n",
    "y_test = y_test[round(.6 * len(X_test)):]"
   ]
  },
  {
   "cell_type": "code",
   "execution_count": 13,
   "metadata": {},
   "outputs": [
    {
     "data": {
      "text/plain": [
       "KNeighborsClassifier(algorithm='auto', leaf_size=30, metric='minkowski',\n",
       "                     metric_params=None, n_jobs=-1, n_neighbors=2, p=2,\n",
       "                     weights='distance')"
      ]
     },
     "execution_count": 13,
     "metadata": {},
     "output_type": "execute_result"
    }
   ],
   "source": [
    "from sklearn.neighbors import KNeighborsClassifier\n",
    "\n",
    "knn_clf = KNeighborsClassifier(n_jobs=-1, weights='distance', n_neighbors=2)\n",
    "knn_clf.fit(X_train, y_train)"
   ]
  },
  {
   "cell_type": "code",
   "execution_count": 15,
   "metadata": {
    "scrolled": true
   },
   "outputs": [],
   "source": [
    "from sklearn.metrics import confusion_matrix\n",
    "\n",
    "y_pred = knn_clf.predict(X_val)\n",
    "y_score = knn_clf.predict_proba(X_val)[:, 0]\n",
    "c_matrix = confusion_matrix(y_val, y_pred)"
   ]
  },
  {
   "cell_type": "code",
   "execution_count": 16,
   "metadata": {},
   "outputs": [
    {
     "name": "stdout",
     "output_type": "stream",
     "text": [
      "Precision: 0.8\n",
      "Recall: 0.8\n",
      "F1 Score: 0.8000000000000002\n",
      "Hamming Loss: 0.2\n",
      "Accuracy Score: 0.8\n"
     ]
    }
   ],
   "source": [
    "from sklearn.metrics import precision_score, recall_score, f1_score, accuracy_score, hamming_loss\n",
    "\n",
    "print(\"Precision: \" + str(precision_score(y_val, y_pred, average = 'micro')))\n",
    "print(\"Recall: \" + str(recall_score(y_val, y_pred, average = 'micro')))\n",
    "print(\"F1 Score: \" + str(f1_score(y_val, y_pred, average = 'micro')))\n",
    "print(\"Hamming Loss: \" + str(hamming_loss(y_val, y_pred)))\n",
    "print(\"Accuracy Score: \" + str(accuracy_score(y_val, y_pred)))"
   ]
  },
  {
   "cell_type": "code",
   "execution_count": 17,
   "metadata": {},
   "outputs": [
    {
     "data": {
      "image/png": "[encoded data removed]",
      "text/plain": [
       "<Figure size 360x360 with 1 Axes>"
      ]
     },
     "metadata": {
      "needs_background": "light"
     },
     "output_type": "display_data"
    }
   ],
   "source": [
    "plt.matshow(c_matrix, cmap=plt.cm.gray)\n",
    "plt.show()"
   ]
  },
  {
   "cell_type": "markdown",
   "metadata": {},
   "source": [
    "### Hyper parameter tuning"
   ]
  },
  {
   "cell_type": "code",
   "execution_count": 69,
   "metadata": {
    "scrolled": true
   },
   "outputs": [],
   "source": [
    "accuracy = []\n",
    "error = []\n",
    "for i in range(1,20):\n",
    "    knn_clf_loop = KNeighborsClassifier(n_jobs=-1, weights='distance', n_neighbors=i)\n",
    "    knn_clf_loop.fit(X_train, y_train)\n",
    "\n",
    "    y_val_pred = knn_clf_loop.predict(X_val)\n",
    "    score = accuracy_score(y_val, y_val_pred)\n",
    "    loss = hamming_loss(y_val, y_val_pred)\n",
    "    accuracy.append(score)\n",
    "    error.append(loss)"
   ]
  },
  {
   "cell_type": "code",
   "execution_count": 70,
   "metadata": {},
   "outputs": [
    {
     "data": {
      "text/plain": [
       "Text(0.5, 1.0, 'Accuracy changes when K is increased')"
      ]
     },
     "execution_count": 70,
     "metadata": {},
     "output_type": "execute_result"
    },
    {
     "data": {
      "image/png": "[encoded data removed]",
      "text/plain": [
       "<Figure size 360x360 with 1 Axes>"
      ]
     },
     "metadata": {
      "needs_background": "light"
     },
     "output_type": "display_data"
    }
   ],
   "source": [
    "plt.plot(list(range(1,20)), accuracy)\n",
    "plt.xlabel('K')\n",
    "plt.ylabel('Accuracy')\n",
    "plt.title('Accuracy changes when K is increased')"
   ]
  },
  {
   "cell_type": "code",
   "execution_count": 71,
   "metadata": {},
   "outputs": [
    {
     "data": {
      "text/plain": [
       "Text(0.5, 1.0, 'Loss changes when K is increased')"
      ]
     },
     "execution_count": 71,
     "metadata": {},
     "output_type": "execute_result"
    },
    {
     "data": {
      "image/png": "[encoded data removed]",
      "text/plain": [
       "<Figure size 360x360 with 1 Axes>"
      ]
     },
     "metadata": {
      "needs_background": "light"
     },
     "output_type": "display_data"
    }
   ],
   "source": [
    "plt.plot(list(range(1,20)), error)\n",
    "plt.xlabel('K')\n",
    "plt.ylabel('Loss')\n",
    "plt.title('Loss changes when K is increased')"
   ]
  },
  {
   "cell_type": "code",
   "execution_count": 208,
   "metadata": {},
   "outputs": [],
   "source": [
    "from sklearn.model_selection import GridSearchCV"
   ]
  },
  {
   "cell_type": "code",
   "execution_count": 209,
   "metadata": {},
   "outputs": [],
   "source": [
    "#List Hyperparameters that we want to tune.\n",
    "leaf_size = list(range(1,50, 10))\n",
    "n_neighbors = list(range(1,30))\n",
    "p=[1,2]"
   ]
  },
  {
   "cell_type": "code",
   "execution_count": 210,
   "metadata": {},
   "outputs": [],
   "source": [
    "hyperparameters = dict(leaf_size=leaf_size, n_neighbors=n_neighbors, p=p)\n",
    "KNN = KNeighborsClassifier()"
   ]
  },
  {
   "cell_type": "code",
   "execution_count": 211,
   "metadata": {},
   "outputs": [],
   "source": [
    "clf = GridSearchCV(KNN, hyperparameters, scoring='accuracy', cv=5)"
   ]
  },
  {
   "cell_type": "code",
   "execution_count": 212,
   "metadata": {},
   "outputs": [
    {
     "name": "stderr",
     "output_type": "stream",
     "text": [
      "C:\\Users\\user1\\anaconda3\\lib\\site-packages\\sklearn\\model_selection\\_split.py:667: UserWarning: The least populated class in y has only 1 members, which is less than n_splits=5.\n",
      "  % (min_groups, self.n_splits)), UserWarning)\n"
     ]
    },
    {
     "data": {
      "text/plain": [
       "GridSearchCV(cv=5, error_score=nan,\n",
       "             estimator=KNeighborsClassifier(algorithm='auto', leaf_size=30,\n",
       "                                            metric='minkowski',\n",
       "                                            metric_params=None, n_jobs=None,\n",
       "                                            n_neighbors=5, p=2,\n",
       "                                            weights='uniform'),\n",
       "             iid='deprecated', n_jobs=None,\n",
       "             param_grid={'n_neighbors': [1, 2, 3, 4, 5, 6, 7, 8, 9, 10, 11, 12,\n",
       "                                         13, 14, 15, 16, 17, 18, 19, 20, 21, 22,\n",
       "                                         23, 24, 25, 26, 27, 28, 29, 30, ...]},\n",
       "             pre_dispatch='2*n_jobs', refit=True, return_train_score=False,\n",
       "             scoring='accuracy', verbose=0)"
      ]
     },
     "execution_count": 212,
     "metadata": {},
     "output_type": "execute_result"
    }
   ],
   "source": [
    "best_classifier= clf.fit(X_val, y_val)"
   ]
  },
  {
   "cell_type": "code",
   "execution_count": 219,
   "metadata": {},
   "outputs": [
    {
     "data": {
      "text/plain": [
       "{'n_neighbors': 3}"
      ]
     },
     "execution_count": 219,
     "metadata": {},
     "output_type": "execute_result"
    }
   ],
   "source": [
    "#clf.best_params_\n",
    "print('Best leaf_size:', best_classifier.best_estimator_.get_params()['leaf_size'])\n",
    "print('Best p:', best_classifier.best_estimator_.get_params()['p'])\n",
    "print('Best n_neighbors:', best_classifier.best_estimator_.get_params()['n_neighbors'])"
   ]
  },
  {
   "cell_type": "markdown",
   "metadata": {},
   "source": [
    "## Testing"
   ]
  },
  {
   "cell_type": "markdown",
   "metadata": {},
   "source": [
    "#### Using the best params"
   ]
  },
  {
   "cell_type": "code",
   "execution_count": 28,
   "metadata": {},
   "outputs": [
    {
     "data": {
      "text/plain": [
       "KNeighborsClassifier(algorithm='auto', leaf_size=30, metric='minkowski',\n",
       "                     metric_params=None, n_jobs=-1, n_neighbors=3, p=2,\n",
       "                     weights='distance')"
      ]
     },
     "execution_count": 28,
     "metadata": {},
     "output_type": "execute_result"
    }
   ],
   "source": [
    "knn_clf = KNeighborsClassifier(n_jobs=-1, weights='distance', n_neighbors=3)\n",
    "knn_clf.fit(X_train, y_train)"
   ]
  },
  {
   "cell_type": "code",
   "execution_count": 29,
   "metadata": {},
   "outputs": [],
   "source": [
    "y_pred = knn_clf.predict(X)"
   ]
  },
  {
   "cell_type": "code",
   "execution_count": 30,
   "metadata": {},
   "outputs": [
    {
     "data": {
      "text/plain": [
       "<matplotlib.image.AxesImage at 0x23d245db188>"
      ]
     },
     "execution_count": 30,
     "metadata": {},
     "output_type": "execute_result"
    },
    {
     "data": {
      "image/png": "[encoded data removed]",
      "text/plain": [
       "<Figure size 360x360 with 1 Axes>"
      ]
     },
     "metadata": {
      "needs_background": "light"
     },
     "output_type": "display_data"
    }
   ],
   "source": [
    "plt.matshow(confusion_matrix(y, y_pred), cmap=plt.cm.gray)"
   ]
  },
  {
   "cell_type": "code",
   "execution_count": 31,
   "metadata": {},
   "outputs": [
    {
     "name": "stdout",
     "output_type": "stream",
     "text": [
      "Precision: 0.875\n",
      "Recall: 0.875\n",
      "F1 Score: 0.875\n",
      "Hamming Loss: 0.125\n",
      "Accuracy Score: 0.875\n",
      "              precision    recall  f1-score   support\n",
      "\n",
      "           0       0.80      1.00      0.89        20\n",
      "           1       1.00      0.75      0.86        20\n",
      "\n",
      "    accuracy                           0.88        40\n",
      "   macro avg       0.90      0.88      0.87        40\n",
      "weighted avg       0.90      0.88      0.87        40\n",
      "\n"
     ]
    }
   ],
   "source": [
    "from sklearn.metrics import precision_score, recall_score, f1_score, accuracy_score, hamming_loss\n",
    "from sklearn.metrics import classification_report\n",
    "\n",
    "print(\"Precision: \" + str(precision_score(y, y_pred, average = 'micro')))\n",
    "print(\"Recall: \" + str(recall_score(y, y_pred, average = 'micro')))\n",
    "print(\"F1 Score: \" + str(f1_score(y, y_pred, average = 'micro')))\n",
    "print(\"Hamming Loss: \" + str(hamming_loss(y, y_pred)))\n",
    "print(\"Accuracy Score: \" + str(accuracy_score(y, y_pred)))\n",
    "\n",
    "#Checking performance our model with classification report.\n",
    "print(classification_report(y, y_pred))"
   ]
  },
  {
   "cell_type": "code",
   "execution_count": 32,
   "metadata": {},
   "outputs": [],
   "source": [
    "def my_mapping(y):\n",
    "    if y == 0:\n",
    "        return 'James'\n",
    "    else:\n",
    "        return 'Wendy'"
   ]
  },
  {
   "cell_type": "code",
   "execution_count": 34,
   "metadata": {},
   "outputs": [],
   "source": [
    "final_target = []\n",
    "for i in range(len(y)):\n",
    "    final_target.append(my_mapping(y[i]))"
   ]
  },
  {
   "cell_type": "code",
   "execution_count": 36,
   "metadata": {},
   "outputs": [],
   "source": [
    "final_pred = []\n",
    "for i in range(len(y_pred)):\n",
    "    final_pred.append(my_mapping(y_pred[i]))"
   ]
  },
  {
   "cell_type": "code",
   "execution_count": 39,
   "metadata": {},
   "outputs": [
    {
     "name": "stdout",
     "output_type": "stream",
     "text": [
      "['James', 'James', 'James', 'James', 'James', 'James', 'James', 'James', 'James', 'James', 'James', 'James', 'James', 'James', 'James', 'James', 'James', 'James', 'James', 'James', 'Wendy', 'Wendy', 'Wendy', 'Wendy', 'Wendy', 'Wendy', 'Wendy', 'Wendy', 'Wendy', 'Wendy', 'Wendy', 'Wendy', 'Wendy', 'Wendy', 'Wendy', 'Wendy', 'Wendy', 'Wendy', 'Wendy', 'Wendy']\n",
      "\n",
      "['James', 'James', 'James', 'James', 'James', 'James', 'James', 'James', 'James', 'James', 'James', 'James', 'James', 'James', 'James', 'James', 'James', 'James', 'James', 'James', 'Wendy', 'Wendy', 'Wendy', 'Wendy', 'Wendy', 'Wendy', 'Wendy', 'Wendy', 'James', 'James', 'Wendy', 'Wendy', 'James', 'Wendy', 'James', 'James', 'Wendy', 'Wendy', 'Wendy', 'Wendy']\n"
     ]
    }
   ],
   "source": [
    "print(final_target)\n",
    "print('')\n",
    "print(final_pred)"
   ]
  },
  {
   "cell_type": "code",
   "execution_count": null,
   "metadata": {},
   "outputs": [],
   "source": []
  }
 ],
 "metadata": {
  "kernelspec": {
   "display_name": "Python 3",
   "language": "python",
   "name": "python3"
  },
  "language_info": {
   "codemirror_mode": {
    "name": "ipython",
    "version": 3
   },
   "file_extension": ".py",
   "mimetype": "text/x-python",
   "name": "python",
   "nbconvert_exporter": "python",
   "pygments_lexer": "ipython3",
   "version": "3.7.6"
  }
 },
 "nbformat": 4,
 "nbformat_minor": 4
}
