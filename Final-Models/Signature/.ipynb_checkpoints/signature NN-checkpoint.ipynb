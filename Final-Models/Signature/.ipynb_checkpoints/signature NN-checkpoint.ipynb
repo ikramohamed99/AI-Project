{
 "cells": [
  {
   "cell_type": "code",
   "execution_count": 1,
   "metadata": {},
   "outputs": [],
   "source": [
    "import cv2\n",
    "import tensorflow as tf\n",
    "import numpy as np\n",
    "import matplotlib.pyplot as plt\n",
    "from skimage.transform import resize\n",
    "from skimage import io\n",
    "import warnings\n",
    "warnings.filterwarnings(\"ignore\")"
   ]
  },
  {
   "cell_type": "markdown",
   "metadata": {},
   "source": [
    "# Loading training data"
   ]
  },
  {
   "cell_type": "code",
   "execution_count": 2,
   "metadata": {},
   "outputs": [
    {
     "data": {
      "text/plain": [
       "<matplotlib.image.AxesImage at 0x259bdf82708>"
      ]
     },
     "execution_count": 2,
     "metadata": {},
     "output_type": "execute_result"
    },
    {
     "data": {
      "image/png": "[encoded data removed]",
      "text/plain": [
       "<Figure size 960x288 with 1 Axes>"
      ]
     },
     "metadata": {
      "needs_background": "light"
     },
     "output_type": "display_data"
    }
   ],
   "source": [
    "james1 = io.imread('.\\JamesMaySignatures\\JamesMay1.png')\n",
    "james2 = io.imread('.\\JamesMaySignatures\\JamesMay2.png')\n",
    "james3 = io.imread('.\\JamesMaySignatures\\JamesMay3.png')\n",
    "james4 = io.imread('.\\JamesMaySignatures\\JamesMay4.png')\n",
    "james5 = io.imread('.\\JamesMaySignatures\\JamesMay5.png')\n",
    "james6 = io.imread('.\\JamesMaySignatures\\JamesMay6.png')\n",
    "james7 = io.imread('.\\JamesMaySignatures\\JamesMay7.png')\n",
    "james8 = io.imread('.\\JamesMaySignatures\\JamesMay8.png')\n",
    "james9 = io.imread('.\\JamesMaySignatures\\JamesMay9.png')\n",
    "james10 = io.imread('.\\JamesMaySignatures\\JamesMay10.png')\n",
    "james11= io.imread('.\\JamesMaySignatures\\JamesMay11.png')\n",
    "james12 = io.imread('.\\JamesMaySignatures\\JamesMay12.png')\n",
    "james13 = io.imread('.\\JamesMaySignatures\\JamesMay13.png')\n",
    "james14 = io.imread('.\\JamesMaySignatures\\JamesMay14.png')\n",
    "james15 = io.imread('.\\JamesMaySignatures\\JamesMay15.png')\n",
    "james16 = io.imread('.\\JamesMaySignatures\\JamesMay16.png')\n",
    "james17 = io.imread('.\\JamesMaySignatures\\JamesMay17.png')\n",
    "james18 = io.imread('.\\JamesMaySignatures\\JamesMay18.png')\n",
    "james19 = io.imread('.\\JamesMaySignatures\\JamesMay19.png')\n",
    "james20 = io.imread('.\\JamesMaySignatures\\JamesMay20.png')\n",
    "\n",
    "wendy1 = io.imread('.\\WendyMartinSignatures\\WendyMartin1.png')\n",
    "wendy2 = io.imread('.\\WendyMartinSignatures\\WendyMartin2.png')\n",
    "wendy3 = io.imread('.\\WendyMartinSignatures\\WendyMartin3.png')\n",
    "wendy4 = io.imread('.\\WendyMartinSignatures\\WendyMartin4.png')\n",
    "wendy5 = io.imread('.\\WendyMartinSignatures\\WendyMartin5.png')\n",
    "wendy6 = io.imread('.\\WendyMartinSignatures\\WendyMartin6.png')\n",
    "wendy7 = io.imread('.\\WendyMartinSignatures\\WendyMartin7.png')\n",
    "wendy8 = io.imread('.\\WendyMartinSignatures\\WendyMartin8.png')\n",
    "wendy9 = io.imread('.\\WendyMartinSignatures\\WendyMartin9.png')\n",
    "wendy10 = io.imread('.\\WendyMartinSignatures\\WendyMartin10.png')\n",
    "wendy11= io.imread('.\\WendyMartinSignatures\\WendyMartin11.png')\n",
    "wendy12 = io.imread('.\\WendyMartinSignatures\\WendyMartin12.png')\n",
    "wendy13 = io.imread('.\\WendyMartinSignatures\\WendyMartin13.png')\n",
    "wendy14 = io.imread('.\\WendyMartinSignatures\\WendyMartin14.png')\n",
    "wendy15 = io.imread('.\\WendyMartinSignatures\\WendyMartin15.png')\n",
    "wendy16 = io.imread('.\\WendyMartinSignatures\\WendyMartin16.png')\n",
    "wendy17 = io.imread('.\\WendyMartinSignatures\\WendyMartin17.png')\n",
    "wendy18 = io.imread('.\\WendyMartinSignatures\\WendyMartin18.png')\n",
    "wendy19 = io.imread('.\\WendyMartinSignatures\\WendyMartin19.png')\n",
    "wendy20 = io.imread('.\\WendyMartinSignatures\\WendyMartin20.png')\n",
    "\n",
    "plt.matshow(wendy6)"
   ]
  },
  {
   "cell_type": "code",
   "execution_count": 3,
   "metadata": {},
   "outputs": [],
   "source": [
    "james1 = cv2.cvtColor(james1,cv2.COLOR_BGR2GRAY)\n",
    "james1 = resize(james1, (100, 100, 1))\n",
    "james1 = james1.flatten()\n",
    "\n",
    "james2 = cv2.cvtColor(james2,cv2.COLOR_BGR2GRAY)\n",
    "james2 = resize(james2, (100, 100, 1))\n",
    "james2 = james2.flatten()\n",
    "\n",
    "james3 = cv2.cvtColor(james3,cv2.COLOR_BGR2GRAY)\n",
    "james3 = resize(james3, (100, 100, 1))\n",
    "james3 = james3.flatten()\n",
    "\n",
    "james4 = cv2.cvtColor(james4,cv2.COLOR_BGR2GRAY)\n",
    "james4 = resize(james4, (100, 100, 1))\n",
    "james4 = james4.flatten()\n",
    "\n",
    "james5 = cv2.cvtColor(james5,cv2.COLOR_BGR2GRAY)\n",
    "james5 = resize(james5, (100, 100, 1))\n",
    "james5 = james5.flatten()\n",
    "\n",
    "james6 = cv2.cvtColor(james6,cv2.COLOR_BGR2GRAY)\n",
    "james6 = resize(james6, (100, 100, 1))\n",
    "james6 = james6.flatten()\n",
    "\n",
    "james7 = cv2.cvtColor(james7,cv2.COLOR_BGR2GRAY)\n",
    "james7 = resize(james7, (100, 100, 1))\n",
    "james7 = james7.flatten()\n",
    "\n",
    "james8 = cv2.cvtColor(james8,cv2.COLOR_BGR2GRAY)\n",
    "james8 = resize(james8, (100, 100, 1))\n",
    "james8 = james8.flatten()\n",
    "\n",
    "james9 = cv2.cvtColor(james9,cv2.COLOR_BGR2GRAY)\n",
    "james9 = resize(james9, (100, 100, 1))\n",
    "james9 = james9.flatten()\n",
    "\n",
    "james10 = cv2.cvtColor(james10,cv2.COLOR_BGR2GRAY)\n",
    "james10 = resize(james10, (100, 100, 1))\n",
    "james10 = james10.flatten()\n",
    "\n",
    "james11 = cv2.cvtColor(james11,cv2.COLOR_BGR2GRAY)\n",
    "james11 = resize(james11, (100, 100, 1))\n",
    "james11 = james11.flatten()\n",
    "\n",
    "james12 = cv2.cvtColor(james12,cv2.COLOR_BGR2GRAY)\n",
    "james12 = resize(james12, (100, 100, 1))\n",
    "james12 = james12.flatten()\n",
    "\n",
    "james13 = cv2.cvtColor(james13,cv2.COLOR_BGR2GRAY)\n",
    "james13 = resize(james13, (100, 100, 1))\n",
    "james13 = james13.flatten()\n",
    "\n",
    "james14 = cv2.cvtColor(james14,cv2.COLOR_BGR2GRAY)\n",
    "james14 = resize(james14, (100, 100, 1))\n",
    "james14 = james14.flatten()\n",
    "\n",
    "james15 = cv2.cvtColor(james15,cv2.COLOR_BGR2GRAY)\n",
    "james15 = resize(james15, (100, 100, 1))\n",
    "james15 = james15.flatten()\n",
    "\n",
    "james16 = cv2.cvtColor(james16,cv2.COLOR_BGR2GRAY)\n",
    "james16 = resize(james16, (100, 100, 1))\n",
    "james16 = james16.flatten()\n",
    "\n",
    "james17 = cv2.cvtColor(james17,cv2.COLOR_BGR2GRAY)\n",
    "james17 = resize(james17, (100, 100, 1))\n",
    "james17 = james17.flatten()\n",
    "\n",
    "james18 = cv2.cvtColor(james18,cv2.COLOR_BGR2GRAY)\n",
    "james18 = resize(james18, (100, 100, 1))\n",
    "james18 = james18.flatten()\n",
    "\n",
    "james19 = cv2.cvtColor(james19,cv2.COLOR_BGR2GRAY)\n",
    "james19 = resize(james19, (100, 100, 1))\n",
    "james19 = james19.flatten()\n",
    "\n",
    "james20 = cv2.cvtColor(james20,cv2.COLOR_BGR2GRAY)\n",
    "james20 = resize(james20, (100, 100, 1))\n",
    "james20 = james20.flatten()"
   ]
  },
  {
   "cell_type": "code",
   "execution_count": 4,
   "metadata": {},
   "outputs": [],
   "source": [
    "wendy1 = cv2.cvtColor(wendy1,cv2.COLOR_BGR2GRAY)\n",
    "wendy1 = resize(wendy1, (100, 100, 1))\n",
    "wendy1 = wendy1.flatten()\n",
    "\n",
    "wendy2 = cv2.cvtColor(wendy2,cv2.COLOR_BGR2GRAY)\n",
    "wendy2 = resize(wendy2, (100, 100, 1))\n",
    "wendy2 = wendy2.flatten()\n",
    "\n",
    "wendy3 = cv2.cvtColor(wendy3,cv2.COLOR_BGR2GRAY)\n",
    "wendy3 = resize(wendy3, (100, 100, 1))\n",
    "wendy3 = wendy3.flatten()\n",
    "\n",
    "wendy4 = cv2.cvtColor(wendy4,cv2.COLOR_BGR2GRAY)\n",
    "wendy4 = resize(wendy4, (100, 100, 1))\n",
    "wendy4 = wendy4.flatten()\n",
    "\n",
    "wendy5 = cv2.cvtColor(wendy5,cv2.COLOR_BGR2GRAY)\n",
    "wendy5 = resize(wendy5, (100, 100, 1))\n",
    "wendy5 = wendy5.flatten()\n",
    "\n",
    "wendy6 = cv2.cvtColor(wendy6,cv2.COLOR_BGR2GRAY)\n",
    "wendy6 = resize(wendy6, (100, 100, 1))\n",
    "wendy6 = wendy6.flatten()\n",
    "\n",
    "wendy7 = cv2.cvtColor(wendy7,cv2.COLOR_BGR2GRAY)\n",
    "wendy7 = resize(wendy7, (100, 100, 1))\n",
    "wendy7 = wendy7.flatten()\n",
    "\n",
    "wendy8 = cv2.cvtColor(wendy8,cv2.COLOR_BGR2GRAY)\n",
    "wendy8 = resize(wendy8, (100, 100, 1))\n",
    "wendy8 = wendy8.flatten()\n",
    "\n",
    "wendy9 = cv2.cvtColor(wendy9,cv2.COLOR_BGR2GRAY)\n",
    "wendy9 = resize(wendy9, (100, 100, 1))\n",
    "wendy9 = wendy9.flatten()\n",
    "\n",
    "wendy10 = cv2.cvtColor(wendy10,cv2.COLOR_BGR2GRAY)\n",
    "wendy10 = resize(wendy10, (100, 100, 1))\n",
    "wendy10 = wendy10.flatten()\n",
    "\n",
    "wendy11 = cv2.cvtColor(wendy11,cv2.COLOR_BGR2GRAY)\n",
    "wendy11 = resize(wendy11, (100, 100, 1))\n",
    "wendy11 = wendy11.flatten()\n",
    "\n",
    "wendy12 = cv2.cvtColor(wendy12,cv2.COLOR_BGR2GRAY)\n",
    "wendy12 = resize(wendy12, (100, 100, 1))\n",
    "wendy12 = wendy12.flatten()\n",
    "\n",
    "wendy13 = cv2.cvtColor(wendy13,cv2.COLOR_BGR2GRAY)\n",
    "wendy13 = resize(wendy13, (100, 100, 1))\n",
    "wendy13 = wendy13.flatten()\n",
    "\n",
    "wendy14 = cv2.cvtColor(wendy14,cv2.COLOR_BGR2GRAY)\n",
    "wendy14 = resize(wendy14, (100, 100, 1))\n",
    "wendy14 = wendy14.flatten()\n",
    "\n",
    "wendy15 = cv2.cvtColor(wendy15,cv2.COLOR_BGR2GRAY)\n",
    "wendy15 = resize(wendy15, (100, 100, 1))\n",
    "wendy15 = wendy15.flatten()\n",
    "\n",
    "wendy16 = cv2.cvtColor(wendy16,cv2.COLOR_BGR2GRAY)\n",
    "wendy16 = resize(wendy16, (100, 100, 1))\n",
    "wendy16 = wendy16.flatten()\n",
    "\n",
    "wendy17 = cv2.cvtColor(wendy17,cv2.COLOR_BGR2GRAY)\n",
    "wendy17 = resize(wendy17, (100, 100, 1))\n",
    "wendy17 = wendy17.flatten()\n",
    "\n",
    "wendy18 = cv2.cvtColor(wendy18,cv2.COLOR_BGR2GRAY)\n",
    "wendy18 = resize(wendy18, (100, 100, 1))\n",
    "wendy18 = wendy18.flatten()\n",
    "\n",
    "wendy19 = cv2.cvtColor(wendy19,cv2.COLOR_BGR2GRAY)\n",
    "wendy19 = resize(wendy19, (100, 100, 1))\n",
    "wendy19 = wendy19.flatten()\n",
    "\n",
    "wendy20 = cv2.cvtColor(wendy20,cv2.COLOR_BGR2GRAY)\n",
    "wendy20 = resize(wendy20, (100, 100, 1))\n",
    "wendy20 = wendy20.flatten()"
   ]
  },
  {
   "cell_type": "code",
   "execution_count": 5,
   "metadata": {},
   "outputs": [],
   "source": [
    "data = []\n",
    "for i in [james1, james2, james3, james4, james5, james6, james7, james8, james9, james10, james11, james12, james13\n",
    "        , james14, james15, james16, james17, james18, james19, james20, wendy1, wendy2, wendy3, wendy4, wendy5, wendy6\n",
    "        , wendy7, wendy8, wendy9, wendy10, wendy11, wendy12, wendy13, wendy14, wendy15, wendy16, wendy17, wendy18, wendy19, wendy20]:\n",
    "    data.append(i)\n",
    "data = np.array(data)"
   ]
  },
  {
   "cell_type": "code",
   "execution_count": 6,
   "metadata": {},
   "outputs": [
    {
     "data": {
      "text/plain": [
       "(40, 10000)"
      ]
     },
     "execution_count": 6,
     "metadata": {},
     "output_type": "execute_result"
    }
   ],
   "source": [
    "data.shape"
   ]
  },
  {
   "cell_type": "code",
   "execution_count": 7,
   "metadata": {},
   "outputs": [],
   "source": [
    "plt.rcParams[\"figure.figsize\"] = (5,5)"
   ]
  },
  {
   "cell_type": "code",
   "execution_count": 8,
   "metadata": {
    "scrolled": true
   },
   "outputs": [
    {
     "name": "stdout",
     "output_type": "stream",
     "text": [
      "Target shape: (40,)\n"
     ]
    }
   ],
   "source": [
    "target = [0,0,0,0,0,0,0,0,0,0,0,0,0,0,0,0,0,0,0,0, 1,1,1,1,1,1,1,1,1,1,1,1,1,1,1,1,1,1,1,1]    \n",
    "target = np.array(target)\n",
    "\n",
    "print('Target shape:', target.shape)"
   ]
  },
  {
   "cell_type": "code",
   "execution_count": 9,
   "metadata": {},
   "outputs": [],
   "source": [
    "X = data \n",
    "y = target\n",
    "n_samples = len(X)"
   ]
  },
  {
   "cell_type": "code",
   "execution_count": 10,
   "metadata": {},
   "outputs": [
    {
     "data": {
      "text/plain": [
       "40"
      ]
     },
     "execution_count": 10,
     "metadata": {},
     "output_type": "execute_result"
    }
   ],
   "source": [
    "n_samples"
   ]
  },
  {
   "cell_type": "code",
   "execution_count": 11,
   "metadata": {},
   "outputs": [],
   "source": [
    "X_train = X[:round(.7 * n_samples)]\n",
    "y_train = y[:round(.7 * n_samples)]\n",
    "X_test = X[round(.7 * n_samples):]\n",
    "y_test = y[round(.7 * n_samples):]"
   ]
  },
  {
   "cell_type": "code",
   "execution_count": 12,
   "metadata": {},
   "outputs": [],
   "source": [
    "X_val = X_test[round(.6 * len(X_test)):]\n",
    "y_val = y_test[round(.6 * len(X_test)):]\n",
    "X_test = X_test[round(.6 * len(X_test)):]\n",
    "y_test = y_test[round(.6 * len(X_test)):]"
   ]
  },
  {
   "cell_type": "code",
   "execution_count": 13,
   "metadata": {},
   "outputs": [],
   "source": [
    "X_train = tf.keras.utils.normalize(X_train, axis=1)\n",
    "X_val = tf.keras.utils.normalize(X_val, axis=1)\n",
    "X_test = tf.keras.utils.normalize(X_test, axis=1)"
   ]
  },
  {
   "cell_type": "code",
   "execution_count": 14,
   "metadata": {},
   "outputs": [],
   "source": [
    "model = tf.keras.models.Sequential()"
   ]
  },
  {
   "cell_type": "code",
   "execution_count": 15,
   "metadata": {},
   "outputs": [],
   "source": [
    "model.add(tf.keras.layers.Flatten())"
   ]
  },
  {
   "cell_type": "code",
   "execution_count": 16,
   "metadata": {},
   "outputs": [],
   "source": [
    "from tensorflow.keras.optimizers import SGD"
   ]
  },
  {
   "cell_type": "code",
   "execution_count": 17,
   "metadata": {},
   "outputs": [],
   "source": [
    "sgd = SGD(learning_rate = 0.01, nesterov=True)"
   ]
  },
  {
   "cell_type": "code",
   "execution_count": 18,
   "metadata": {},
   "outputs": [],
   "source": [
    "model.add(tf.keras.layers.Dense(128, activation=tf.nn.relu))"
   ]
  },
  {
   "cell_type": "code",
   "execution_count": 19,
   "metadata": {},
   "outputs": [],
   "source": [
    "model.add(tf.keras.layers.Dense(60, activation=tf.nn.relu))"
   ]
  },
  {
   "cell_type": "code",
   "execution_count": 20,
   "metadata": {},
   "outputs": [],
   "source": [
    "model.add(tf.keras.layers.Dense(30, activation=tf.nn.relu))"
   ]
  },
  {
   "cell_type": "code",
   "execution_count": 21,
   "metadata": {},
   "outputs": [],
   "source": [
    "logits = model.add(tf.keras.layers.Dense(2, activation=tf.nn.softmax))"
   ]
  },
  {
   "cell_type": "code",
   "execution_count": 22,
   "metadata": {},
   "outputs": [],
   "source": [
    "# Compile model\n",
    "model.compile(loss='binary_crossentropy', optimizer='adam', metrics=['accuracy'])"
   ]
  },
  {
   "cell_type": "code",
   "execution_count": 23,
   "metadata": {},
   "outputs": [
    {
     "name": "stdout",
     "output_type": "stream",
     "text": [
      "WARNING:tensorflow:From C:\\Users\\user1\\anaconda3\\lib\\site-packages\\tensorflow_core\\python\\ops\\resource_variable_ops.py:1630: calling BaseResourceVariable.__init__ (from tensorflow.python.ops.resource_variable_ops) with constraint is deprecated and will be removed in a future version.\n",
      "Instructions for updating:\n",
      "If using Keras pass *_constraint arguments to layers.\n",
      "WARNING:tensorflow:From C:\\Users\\user1\\anaconda3\\lib\\site-packages\\tensorflow_core\\python\\ops\\math_grad.py:1424: where (from tensorflow.python.ops.array_ops) is deprecated and will be removed in a future version.\n",
      "Instructions for updating:\n",
      "Use tf.where in 2.0, which has the same broadcast rule as np.where\n",
      "Train on 28 samples, validate on 5 samples\n",
      "Epoch 1/10\n",
      "28/28 [==============================] - 0s 10ms/sample - loss: 0.6933 - acc: 0.5000 - val_loss: 0.6932 - val_acc: 0.5000\n",
      "Epoch 2/10\n",
      "28/28 [==============================] - 0s 3ms/sample - loss: 0.6932 - acc: 0.5000 - val_loss: 0.6932 - val_acc: 0.5000\n",
      "Epoch 3/10\n",
      "28/28 [==============================] - 0s 2ms/sample - loss: 0.6932 - acc: 0.5000 - val_loss: 0.6932 - val_acc: 0.5000\n",
      "Epoch 4/10\n",
      "28/28 [==============================] - 0s 2ms/sample - loss: 0.6932 - acc: 0.5000 - val_loss: 0.6931 - val_acc: 0.5000\n",
      "Epoch 5/10\n",
      "28/28 [==============================] - 0s 2ms/sample - loss: 0.6932 - acc: 0.5000 - val_loss: 0.6931 - val_acc: 0.5000\n",
      "Epoch 6/10\n",
      "28/28 [==============================] - 0s 2ms/sample - loss: 0.6931 - acc: 0.5000 - val_loss: 0.6931 - val_acc: 0.5000\n",
      "Epoch 7/10\n",
      "28/28 [==============================] - 0s 2ms/sample - loss: 0.6931 - acc: 0.5000 - val_loss: 0.6931 - val_acc: 0.5000\n",
      "Epoch 8/10\n",
      "28/28 [==============================] - 0s 2ms/sample - loss: 0.6931 - acc: 0.5000 - val_loss: 0.6931 - val_acc: 0.5000\n",
      "Epoch 9/10\n",
      "28/28 [==============================] - 0s 2ms/sample - loss: 0.6931 - acc: 0.5000 - val_loss: 0.6931 - val_acc: 0.5000\n",
      "Epoch 10/10\n",
      "28/28 [==============================] - 0s 2ms/sample - loss: 0.6931 - acc: 0.5000 - val_loss: 0.6931 - val_acc: 0.5000\n"
     ]
    }
   ],
   "source": [
    "model_fit = model.fit(X_train, y_train, epochs=10, batch_size = 10, validation_data=(X_val, y_val))"
   ]
  },
  {
   "cell_type": "code",
   "execution_count": 24,
   "metadata": {},
   "outputs": [
    {
     "name": "stdout",
     "output_type": "stream",
     "text": [
      "5/5 [==============================] - 0s 600us/sample - loss: 0.6931 - acc: 0.5000\n",
      "Loss: 0.6931471824645996\n",
      "Accuracy: 0.5\n"
     ]
    }
   ],
   "source": [
    "val_loss, val_acc = model.evaluate(X_val, y_val)\n",
    "print('Loss: ' + str(val_loss))\n",
    "print('Accuracy: ' + str(val_acc))"
   ]
  },
  {
   "cell_type": "code",
   "execution_count": 25,
   "metadata": {},
   "outputs": [],
   "source": [
    "from sklearn.metrics import confusion_matrix\n",
    "y_val_pred = model.predict_classes(X_val)\n",
    "c_matrix = confusion_matrix(y_val, y_val_pred)"
   ]
  },
  {
   "cell_type": "code",
   "execution_count": 26,
   "metadata": {},
   "outputs": [
    {
     "data": {
      "image/png": "[encoded data removed]",
      "text/plain": [
       "<Figure size 360x360 with 1 Axes>"
      ]
     },
     "metadata": {
      "needs_background": "light"
     },
     "output_type": "display_data"
    }
   ],
   "source": [
    "plt.matshow(c_matrix, cmap=plt.cm.gray)\n",
    "plt.show()"
   ]
  },
  {
   "cell_type": "code",
   "execution_count": 27,
   "metadata": {},
   "outputs": [
    {
     "data": {
      "image/png": "[encoded data removed]",
      "text/plain": [
       "<Figure size 720x432 with 1 Axes>"
      ]
     },
     "metadata": {
      "needs_background": "light"
     },
     "output_type": "display_data"
    }
   ],
   "source": [
    "# plot loss\n",
    "fig, ax = plt.subplots(1, 1, figsize=(10,6))\n",
    "ax.plot(np.sqrt(model_fit.history['loss']), 'r', label='train')\n",
    "ax.plot(np.sqrt(model_fit.history['val_loss']), 'b' ,label='val')\n",
    "ax.set_xlabel(r'Epoch', fontsize=20)\n",
    "ax.set_ylabel(r'Loss', fontsize=20)\n",
    "ax.legend()\n",
    "ax.tick_params(labelsize=20)"
   ]
  },
  {
   "cell_type": "code",
   "execution_count": 28,
   "metadata": {},
   "outputs": [
    {
     "data": {
      "image/png": "[encoded data removed]",
      "text/plain": [
       "<Figure size 720x432 with 1 Axes>"
      ]
     },
     "metadata": {
      "needs_background": "light"
     },
     "output_type": "display_data"
    }
   ],
   "source": [
    "# Plot accuracy\n",
    "fig, ax = plt.subplots(1, 1, figsize=(10,6))\n",
    "ax.plot(np.sqrt(model_fit.history['acc']), 'r', label='train')\n",
    "ax.plot(np.sqrt(model_fit.history['val_acc']), 'b' ,label='val')\n",
    "ax.set_xlabel(r'Epoch', fontsize=20)\n",
    "ax.set_ylabel(r'Accuracy', fontsize=20)\n",
    "ax.legend()\n",
    "ax.tick_params(labelsize=20)"
   ]
  },
  {
   "cell_type": "markdown",
   "metadata": {},
   "source": [
    "### Hyper parameter tuning"
   ]
  },
  {
   "cell_type": "code",
   "execution_count": 29,
   "metadata": {
    "scrolled": true
   },
   "outputs": [],
   "source": [
    "# Function to create model, required for KerasClassifier\n",
    "def create_model():\n",
    "    # create model\n",
    "    \n",
    "    model = tf.keras.models.Sequential()\n",
    "\n",
    "    model.add(tf.keras.layers.Flatten())\n",
    "    \n",
    "    model.add(tf.keras.layers.Dense(128, activation=tf.nn.relu))\n",
    "    \n",
    "    logits = model.add(tf.keras.layers.Dense(2, activation=tf.nn.softmax))\n",
    "    \n",
    "    model.compile(optimizer='adam',\n",
    "              loss='binary_crossentropy',\n",
    "              metrics=['accuracy'])\n",
    "    return model"
   ]
  },
  {
   "cell_type": "code",
   "execution_count": 30,
   "metadata": {},
   "outputs": [
    {
     "name": "stdout",
     "output_type": "stream",
     "text": [
      "Best: 0.500000 using {'batch_size': 10, 'epochs': 10}\n"
     ]
    }
   ],
   "source": [
    "#from create_model import create_model\n",
    "from sklearn.model_selection import GridSearchCV\n",
    "new_model = tf.keras.wrappers.scikit_learn.KerasClassifier(build_fn=create_model, verbose=0)\n",
    "\n",
    "# define the grid search parameters\n",
    "batch_size = [10, 20, 40, 60, 80, 100]\n",
    "epochs = [10, 50, 100]\n",
    "param_grid = dict(batch_size=batch_size, epochs=epochs)\n",
    "grid = GridSearchCV(estimator=new_model, param_grid=param_grid, n_jobs=1, cv=3)\n",
    "grid_result = grid.fit(X_train, y_train)\n",
    "\n",
    "# summarize results\n",
    "print(\"Best: %f using %s\" % (grid_result.best_score_, grid_result.best_params_))"
   ]
  },
  {
   "cell_type": "markdown",
   "metadata": {},
   "source": [
    "## Final predict"
   ]
  },
  {
   "cell_type": "markdown",
   "metadata": {},
   "source": [
    "#### Using the best params"
   ]
  },
  {
   "cell_type": "code",
   "execution_count": 31,
   "metadata": {},
   "outputs": [],
   "source": [
    "model = tf.keras.models.Sequential()\n",
    "\n",
    "model.add(tf.keras.layers.Flatten())\n",
    "\n",
    "model.add(tf.keras.layers.Dense(128, activation=tf.nn.relu))\n",
    "\n",
    "logits = model.add(tf.keras.layers.Dense(2, activation=tf.nn.softmax))\n",
    "\n",
    "model.compile(optimizer='adam',\n",
    "          loss='binary_crossentropy',\n",
    "          metrics=['accuracy'])"
   ]
  },
  {
   "cell_type": "code",
   "execution_count": 32,
   "metadata": {},
   "outputs": [
    {
     "name": "stdout",
     "output_type": "stream",
     "text": [
      "Train on 28 samples\n",
      "Epoch 1/10\n",
      "28/28 [==============================] - 1s 28ms/sample - loss: 0.6975 - acc: 0.5000\n",
      "Epoch 2/10\n",
      "28/28 [==============================] - 0s 2ms/sample - loss: 0.6931 - acc: 0.5000\n",
      "Epoch 3/10\n",
      "28/28 [==============================] - 0s 3ms/sample - loss: 0.6931 - acc: 0.5000\n",
      "Epoch 4/10\n",
      "28/28 [==============================] - 0s 2ms/sample - loss: 0.6932 - acc: 0.5000\n",
      "Epoch 5/10\n",
      "28/28 [==============================] - 0s 2ms/sample - loss: 0.6932 - acc: 0.5000\n",
      "Epoch 6/10\n",
      "28/28 [==============================] - 0s 2ms/sample - loss: 0.6932 - acc: 0.5000\n",
      "Epoch 7/10\n",
      "28/28 [==============================] - 0s 2ms/sample - loss: 0.6932 - acc: 0.5000\n",
      "Epoch 8/10\n",
      "28/28 [==============================] - 0s 2ms/sample - loss: 0.6932 - acc: 0.5000\n",
      "Epoch 9/10\n",
      "28/28 [==============================] - 0s 3ms/sample - loss: 0.6932 - acc: 0.5000\n",
      "Epoch 10/10\n",
      "28/28 [==============================] - 0s 2ms/sample - loss: 0.6932 - acc: 0.5000\n"
     ]
    },
    {
     "data": {
      "text/plain": [
       "<tensorflow.python.keras.callbacks.History at 0x259a38e9bc8>"
      ]
     },
     "execution_count": 32,
     "metadata": {},
     "output_type": "execute_result"
    }
   ],
   "source": [
    "model.fit(X_train, y_train, epochs=10, batch_size = 10)"
   ]
  },
  {
   "cell_type": "code",
   "execution_count": 33,
   "metadata": {},
   "outputs": [],
   "source": [
    "y_pred = model.predict_classes(X)"
   ]
  },
  {
   "cell_type": "code",
   "execution_count": 34,
   "metadata": {},
   "outputs": [
    {
     "data": {
      "text/plain": [
       "array([0, 0, 0, 0, 0, 0, 0, 0, 0, 0, 0, 0, 0, 0, 0, 0, 0, 0, 0, 0, 1, 1,\n",
       "       1, 1, 1, 1, 1, 1, 1, 1, 1, 1, 1, 1, 1, 1, 1, 1, 1, 1])"
      ]
     },
     "execution_count": 34,
     "metadata": {},
     "output_type": "execute_result"
    }
   ],
   "source": [
    "y"
   ]
  },
  {
   "cell_type": "code",
   "execution_count": 35,
   "metadata": {},
   "outputs": [
    {
     "data": {
      "text/plain": [
       "array([1, 1, 1, 1, 1, 1, 1, 1, 1, 1, 1, 1, 1, 1, 1, 1, 1, 1, 1, 1, 1, 1,\n",
       "       1, 1, 1, 1, 1, 1, 1, 1, 1, 1, 1, 1, 1, 1, 1, 1, 1, 1], dtype=int64)"
      ]
     },
     "execution_count": 35,
     "metadata": {},
     "output_type": "execute_result"
    }
   ],
   "source": [
    "y_pred"
   ]
  },
  {
   "cell_type": "code",
   "execution_count": 36,
   "metadata": {},
   "outputs": [
    {
     "data": {
      "text/plain": [
       "<matplotlib.image.AxesImage at 0x259aa27cfc8>"
      ]
     },
     "execution_count": 36,
     "metadata": {},
     "output_type": "execute_result"
    },
    {
     "data": {
      "image/png": "[encoded data removed]",
      "text/plain": [
       "<Figure size 360x360 with 1 Axes>"
      ]
     },
     "metadata": {
      "needs_background": "light"
     },
     "output_type": "display_data"
    }
   ],
   "source": [
    "plt.matshow(confusion_matrix(y, y_pred), cmap=plt.cm.gray)"
   ]
  },
  {
   "cell_type": "code",
   "execution_count": 37,
   "metadata": {},
   "outputs": [
    {
     "name": "stdout",
     "output_type": "stream",
     "text": [
      "Precision: 0.5\n",
      "Recall: 0.5\n",
      "F1 Score: 0.5\n",
      "Hamming Loss: 0.5\n",
      "Accuracy Score: 0.5\n",
      "              precision    recall  f1-score   support\n",
      "\n",
      "           0       0.00      0.00      0.00        20\n",
      "           1       0.50      1.00      0.67        20\n",
      "\n",
      "    accuracy                           0.50        40\n",
      "   macro avg       0.25      0.50      0.33        40\n",
      "weighted avg       0.25      0.50      0.33        40\n",
      "\n"
     ]
    }
   ],
   "source": [
    "from sklearn.metrics import precision_score, recall_score, f1_score, accuracy_score, hamming_loss\n",
    "from sklearn.metrics import classification_report\n",
    "\n",
    "print(\"Precision: \" + str(precision_score(y, y_pred, average = 'micro')))\n",
    "print(\"Recall: \" + str(recall_score(y, y_pred, average = 'micro')))\n",
    "print(\"F1 Score: \" + str(f1_score(y, y_pred, average = 'micro')))\n",
    "print(\"Hamming Loss: \" + str(hamming_loss(y, y_pred)))\n",
    "print(\"Accuracy Score: \" + str(accuracy_score(y, y_pred)))\n",
    "\n",
    "#Checking performance our model with classification report.\n",
    "print(classification_report(y, y_pred))"
   ]
  },
  {
   "cell_type": "code",
   "execution_count": 38,
   "metadata": {},
   "outputs": [],
   "source": [
    "def my_mapping(y):\n",
    "    if y == 0:\n",
    "        return 'James'\n",
    "    else:\n",
    "        return 'Wendy'"
   ]
  },
  {
   "cell_type": "code",
   "execution_count": 39,
   "metadata": {},
   "outputs": [],
   "source": [
    "final_target = []\n",
    "for i in range(len(y)):\n",
    "    final_target.append(my_mapping(y[i]))"
   ]
  },
  {
   "cell_type": "code",
   "execution_count": 40,
   "metadata": {},
   "outputs": [],
   "source": [
    "final_pred = []\n",
    "for i in range(len(y_pred)):\n",
    "    final_pred.append(my_mapping(y_pred[i]))"
   ]
  },
  {
   "cell_type": "code",
   "execution_count": 41,
   "metadata": {},
   "outputs": [
    {
     "name": "stdout",
     "output_type": "stream",
     "text": [
      "['James', 'James', 'James', 'James', 'James', 'James', 'James', 'James', 'James', 'James', 'James', 'James', 'James', 'James', 'James', 'James', 'James', 'James', 'James', 'James', 'Wendy', 'Wendy', 'Wendy', 'Wendy', 'Wendy', 'Wendy', 'Wendy', 'Wendy', 'Wendy', 'Wendy', 'Wendy', 'Wendy', 'Wendy', 'Wendy', 'Wendy', 'Wendy', 'Wendy', 'Wendy', 'Wendy', 'Wendy']\n",
      "\n",
      "['Wendy', 'Wendy', 'Wendy', 'Wendy', 'Wendy', 'Wendy', 'Wendy', 'Wendy', 'Wendy', 'Wendy', 'Wendy', 'Wendy', 'Wendy', 'Wendy', 'Wendy', 'Wendy', 'Wendy', 'Wendy', 'Wendy', 'Wendy', 'Wendy', 'Wendy', 'Wendy', 'Wendy', 'Wendy', 'Wendy', 'Wendy', 'Wendy', 'Wendy', 'Wendy', 'Wendy', 'Wendy', 'Wendy', 'Wendy', 'Wendy', 'Wendy', 'Wendy', 'Wendy', 'Wendy', 'Wendy']\n"
     ]
    }
   ],
   "source": [
    "print(final_target)\n",
    "print('')\n",
    "print(final_pred)"
   ]
  },
  {
   "cell_type": "code",
   "execution_count": null,
   "metadata": {},
   "outputs": [],
   "source": []
  }
 ],
 "metadata": {
  "kernelspec": {
   "display_name": "Python 3",
   "language": "python",
   "name": "python3"
  },
  "language_info": {
   "codemirror_mode": {
    "name": "ipython",
    "version": 3
   },
   "file_extension": ".py",
   "mimetype": "text/x-python",
   "name": "python",
   "nbconvert_exporter": "python",
   "pygments_lexer": "ipython3",
   "version": "3.7.6"
  }
 },
 "nbformat": 4,
 "nbformat_minor": 4
}
